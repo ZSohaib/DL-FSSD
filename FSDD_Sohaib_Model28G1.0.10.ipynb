{
 "cells": [
  {
   "cell_type": "markdown",
   "metadata": {},
   "source": [
    "# Categorical Classifier"
   ]
  },
  {
   "cell_type": "markdown",
   "metadata": {},
   "source": [
    "## The Libraries we need"
   ]
  },
  {
   "cell_type": "code",
   "execution_count": 1,
   "metadata": {},
   "outputs": [],
   "source": [
    "import numpy as np\n",
    "from PIL import Image\n",
    "import glob, os\n",
    "from shutil import copyfile\n",
    "import matplotlib.pyplot as plt\n",
    "import tensorflow as tf\n",
    "from tensorflow import keras\n",
    "from tensorflow.keras import layers\n",
    "from keras.preprocessing.image import ImageDataGenerator"
   ]
  },
  {
   "cell_type": "markdown",
   "metadata": {},
   "source": [
    "### Variables"
   ]
  },
  {
   "cell_type": "code",
   "execution_count": 2,
   "metadata": {},
   "outputs": [],
   "source": [
    "# Image dimension\n",
    "img_height = 28\n",
    "img_width = 28\n",
    "\n",
    "# Training batch\n",
    "batch_size = 100"
   ]
  },
  {
   "cell_type": "markdown",
   "metadata": {},
   "source": [
    "## The creation of Sohaib_Model"
   ]
  },
  {
   "cell_type": "code",
   "execution_count": 3,
   "metadata": {},
   "outputs": [],
   "source": [
    "# Creation of sequential model\n",
    "Sohaib_Model = keras.Sequential([\n",
    "    layers.Input((img_height,img_width,1)),\n",
    "    layers.Conv2D(16,3, padding='same', activation = 'relu'),\n",
    "    layers.Conv2D(32,5, padding='same', activation = 'relu'),\n",
    "    layers.MaxPooling2D(pool_size = (2, 2)),\n",
    "    layers.Dropout(0.2),\n",
    "    layers.Conv2D(32,3, padding='same', activation = 'relu'),\n",
    "    layers.MaxPooling2D(pool_size = (2, 2)),\n",
    "    layers.Dropout(0.2),\n",
    "    layers.Flatten(),\n",
    "    layers.Dense(10, activation = 'softmax'),\n",
    "])\n",
    "\n",
    "# Compile the model\n",
    "Sohaib_Model.compile(loss='categorical_crossentropy', optimizer='adam', metrics=['accuracy'])"
   ]
  },
  {
   "cell_type": "markdown",
   "metadata": {},
   "source": [
    "### Model Summary"
   ]
  },
  {
   "cell_type": "code",
   "execution_count": 4,
   "metadata": {},
   "outputs": [
    {
     "name": "stdout",
     "output_type": "stream",
     "text": [
      "Model: \"sequential\"\n",
      "_________________________________________________________________\n",
      "Layer (type)                 Output Shape              Param #   \n",
      "=================================================================\n",
      "conv2d (Conv2D)              (None, 28, 28, 16)        160       \n",
      "_________________________________________________________________\n",
      "conv2d_1 (Conv2D)            (None, 28, 28, 32)        12832     \n",
      "_________________________________________________________________\n",
      "max_pooling2d (MaxPooling2D) (None, 14, 14, 32)        0         \n",
      "_________________________________________________________________\n",
      "dropout (Dropout)            (None, 14, 14, 32)        0         \n",
      "_________________________________________________________________\n",
      "conv2d_2 (Conv2D)            (None, 14, 14, 32)        9248      \n",
      "_________________________________________________________________\n",
      "max_pooling2d_1 (MaxPooling2 (None, 7, 7, 32)          0         \n",
      "_________________________________________________________________\n",
      "dropout_1 (Dropout)          (None, 7, 7, 32)          0         \n",
      "_________________________________________________________________\n",
      "flatten (Flatten)            (None, 1568)              0         \n",
      "_________________________________________________________________\n",
      "dense (Dense)                (None, 10)                15690     \n",
      "=================================================================\n",
      "Total params: 37,930\n",
      "Trainable params: 37,930\n",
      "Non-trainable params: 0\n",
      "_________________________________________________________________\n",
      "None\n"
     ]
    }
   ],
   "source": [
    "print(Sohaib_Model.summary())"
   ]
  },
  {
   "cell_type": "markdown",
   "metadata": {},
   "source": [
    "## Loading the FSDD v1.0.11"
   ]
  },
  {
   "cell_type": "code",
   "execution_count": 5,
   "metadata": {},
   "outputs": [
    {
     "name": "stdout",
     "output_type": "stream",
     "text": [
      "Found 3000 files belonging to 10 classes.\n",
      "Using 2700 files for training.\n",
      "Found 3000 files belonging to 10 classes.\n",
      "Using 300 files for validation.\n"
     ]
    }
   ],
   "source": [
    "DS_train =tf.keras.preprocessing.image_dataset_from_directory(\n",
    "    '/home/zerguine/Desktop/Sound Classification/free-spoken-digit-dataset-master/spectrograms',\n",
    "    labels= 'inferred',\n",
    "    label_mode = 'categorical',\n",
    "    color_mode='grayscale',\n",
    "    batch_size=batch_size,\n",
    "    image_size=(img_height,img_width),\n",
    "    shuffle=True,\n",
    "    class_names = ['0','1','2','3','4','5','6','7','8','9'],\n",
    "    seed=123,\n",
    "    validation_split = 0.1,\n",
    "    subset=\"training\")\n",
    "DS_test =tf.keras.preprocessing.image_dataset_from_directory(\n",
    "    '/home/zerguine/Desktop/Sound Classification/free-spoken-digit-dataset-master/spectrograms',\n",
    "    labels= 'inferred',\n",
    "    label_mode = 'categorical',\n",
    "    color_mode='grayscale',\n",
    "    batch_size=batch_size,\n",
    "    image_size=(img_height,img_width),\n",
    "    shuffle=True,\n",
    "    class_names = ['0','1','2','3','4','5','6','7','8','9'],\n",
    "    seed=123,\n",
    "    validation_split = 0.1,\n",
    "    subset=\"validation\")"
   ]
  },
  {
   "cell_type": "markdown",
   "metadata": {},
   "source": [
    "## Augmenting Data"
   ]
  },
  {
   "cell_type": "code",
   "execution_count": 6,
   "metadata": {},
   "outputs": [],
   "source": [
    "def appending(x, y):\n",
    "    image =tf.image.random_brightness(x, max_delta=0.05)\n",
    "    return image, y\n",
    "DS_train = DS_train.map(appending)"
   ]
  },
  {
   "cell_type": "markdown",
   "metadata": {},
   "source": [
    "### Train the model"
   ]
  },
  {
   "cell_type": "code",
   "execution_count": 7,
   "metadata": {},
   "outputs": [
    {
     "name": "stdout",
     "output_type": "stream",
     "text": [
      "Epoch 1/30\n",
      "27/27 [==============================] - 8s 271ms/step - loss: 11.6448 - accuracy: 0.1142 - val_loss: 2.2287 - val_accuracy: 0.1767\n",
      "Epoch 2/30\n",
      "27/27 [==============================] - 6s 217ms/step - loss: 2.2090 - accuracy: 0.1958 - val_loss: 1.9577 - val_accuracy: 0.4467\n",
      "Epoch 3/30\n",
      "27/27 [==============================] - 6s 202ms/step - loss: 1.7994 - accuracy: 0.3957 - val_loss: 1.1270 - val_accuracy: 0.7133\n",
      "Epoch 4/30\n",
      "27/27 [==============================] - 5s 198ms/step - loss: 1.1595 - accuracy: 0.5999 - val_loss: 0.6323 - val_accuracy: 0.8400\n",
      "Epoch 5/30\n",
      "27/27 [==============================] - 5s 198ms/step - loss: 0.7968 - accuracy: 0.7261 - val_loss: 0.5255 - val_accuracy: 0.8600\n",
      "Epoch 6/30\n",
      "27/27 [==============================] - 5s 193ms/step - loss: 0.5883 - accuracy: 0.8029 - val_loss: 0.4589 - val_accuracy: 0.8700\n",
      "Epoch 7/30\n",
      "27/27 [==============================] - 5s 193ms/step - loss: 0.4560 - accuracy: 0.8541 - val_loss: 0.3709 - val_accuracy: 0.9100\n",
      "Epoch 8/30\n",
      "27/27 [==============================] - 5s 195ms/step - loss: 0.4157 - accuracy: 0.8618 - val_loss: 0.3187 - val_accuracy: 0.9067\n",
      "Epoch 9/30\n",
      "27/27 [==============================] - 5s 193ms/step - loss: 0.3534 - accuracy: 0.8890 - val_loss: 0.3078 - val_accuracy: 0.9167\n",
      "Epoch 10/30\n",
      "27/27 [==============================] - 5s 193ms/step - loss: 0.3347 - accuracy: 0.8875 - val_loss: 0.2737 - val_accuracy: 0.9267\n",
      "Epoch 11/30\n",
      "27/27 [==============================] - 5s 193ms/step - loss: 0.2994 - accuracy: 0.8956 - val_loss: 0.2427 - val_accuracy: 0.9300\n",
      "Epoch 12/30\n",
      "27/27 [==============================] - 5s 192ms/step - loss: 0.2549 - accuracy: 0.9217 - val_loss: 0.2465 - val_accuracy: 0.9300\n",
      "Epoch 13/30\n",
      "27/27 [==============================] - 5s 193ms/step - loss: 0.2579 - accuracy: 0.9221 - val_loss: 0.2469 - val_accuracy: 0.9233\n",
      "Epoch 14/30\n",
      "27/27 [==============================] - 5s 194ms/step - loss: 0.2257 - accuracy: 0.9312 - val_loss: 0.2209 - val_accuracy: 0.9467\n",
      "Epoch 15/30\n",
      "27/27 [==============================] - 5s 192ms/step - loss: 0.2198 - accuracy: 0.9254 - val_loss: 0.2115 - val_accuracy: 0.9433\n",
      "Epoch 16/30\n",
      "27/27 [==============================] - 5s 191ms/step - loss: 0.2023 - accuracy: 0.9330 - val_loss: 0.1997 - val_accuracy: 0.9433\n",
      "Epoch 17/30\n",
      "27/27 [==============================] - 5s 193ms/step - loss: 0.1606 - accuracy: 0.9461 - val_loss: 0.1811 - val_accuracy: 0.9533\n",
      "Epoch 18/30\n",
      "27/27 [==============================] - 5s 192ms/step - loss: 0.1796 - accuracy: 0.9395 - val_loss: 0.1947 - val_accuracy: 0.9567\n",
      "Epoch 19/30\n",
      "27/27 [==============================] - 5s 194ms/step - loss: 0.1596 - accuracy: 0.9490 - val_loss: 0.1845 - val_accuracy: 0.9533\n",
      "Epoch 20/30\n",
      "27/27 [==============================] - 6s 201ms/step - loss: 0.1332 - accuracy: 0.9533 - val_loss: 0.1845 - val_accuracy: 0.9567\n",
      "Epoch 21/30\n",
      "27/27 [==============================] - 5s 192ms/step - loss: 0.1240 - accuracy: 0.9579 - val_loss: 0.1814 - val_accuracy: 0.9533\n",
      "Epoch 22/30\n",
      "27/27 [==============================] - 5s 197ms/step - loss: 0.1422 - accuracy: 0.9511 - val_loss: 0.1725 - val_accuracy: 0.9500\n",
      "Epoch 23/30\n",
      "27/27 [==============================] - 6s 201ms/step - loss: 0.1395 - accuracy: 0.9558 - val_loss: 0.1538 - val_accuracy: 0.9500\n",
      "Epoch 24/30\n",
      "27/27 [==============================] - 5s 194ms/step - loss: 0.1151 - accuracy: 0.9651 - val_loss: 0.1492 - val_accuracy: 0.9533\n",
      "Epoch 25/30\n",
      "27/27 [==============================] - 5s 191ms/step - loss: 0.1168 - accuracy: 0.9634 - val_loss: 0.1454 - val_accuracy: 0.9533\n",
      "Epoch 26/30\n",
      "27/27 [==============================] - 5s 193ms/step - loss: 0.1201 - accuracy: 0.9622 - val_loss: 0.1354 - val_accuracy: 0.9600\n",
      "Epoch 27/30\n",
      "27/27 [==============================] - 5s 192ms/step - loss: 0.0993 - accuracy: 0.9683 - val_loss: 0.1421 - val_accuracy: 0.9500\n",
      "Epoch 28/30\n",
      "27/27 [==============================] - 5s 198ms/step - loss: 0.0962 - accuracy: 0.9697 - val_loss: 0.1432 - val_accuracy: 0.9633\n",
      "Epoch 29/30\n",
      "27/27 [==============================] - 5s 193ms/step - loss: 0.0892 - accuracy: 0.9676 - val_loss: 0.1325 - val_accuracy: 0.9567\n",
      "Epoch 30/30\n",
      "27/27 [==============================] - 5s 192ms/step - loss: 0.0853 - accuracy: 0.9722 - val_loss: 0.1385 - val_accuracy: 0.9567\n"
     ]
    }
   ],
   "source": [
    "History = Sohaib_Model.fit(DS_train, validation_data = DS_test, epochs=30, shuffle=True)"
   ]
  },
  {
   "cell_type": "code",
   "execution_count": 8,
   "metadata": {},
   "outputs": [
    {
     "data": {
      "image/png": "[encoded data removed]",
      "text/plain": [
       "<Figure size 432x288 with 1 Axes>"
      ]
     },
     "metadata": {
      "needs_background": "light"
     },
     "output_type": "display_data"
    }
   ],
   "source": [
    "# Plot training & validation loss values\n",
    "plt.plot(History.history['loss'])\n",
    "plt.plot(History.history['val_loss'])\n",
    "plt.title('Sohaib_Model 28G loss')\n",
    "plt.ylabel('Loss')\n",
    "plt.xlabel('Epoch')\n",
    "plt.legend(['Train', 'Validation'], loc='upper right')\n",
    "plt.draw()\n",
    "plt.savefig('Smodellossv1.0.10.pdf');"
   ]
  },
  {
   "cell_type": "code",
   "execution_count": 9,
   "metadata": {},
   "outputs": [
    {
     "name": "stdout",
     "output_type": "stream",
     "text": [
      "Minimum validation loss 0.13 and maximum accuracy 96.33%.\n"
     ]
    },
    {
     "data": {
      "image/png": "[encoded data removed]",
      "text/plain": [
       "<Figure size 432x288 with 1 Axes>"
      ]
     },
     "metadata": {
      "needs_background": "light"
     },
     "output_type": "display_data"
    }
   ],
   "source": [
    "# Plot training & validation accuracy values\n",
    "plt.plot(History.history['accuracy'])\n",
    "plt.plot(History.history['val_accuracy'])\n",
    "plt.title('Sohaib_Model 28G accuracy')\n",
    "plt.ylabel('Accuracy')\n",
    "plt.xlabel('Epoch')\n",
    "plt.legend(['Train', 'Validation'], loc='lower right')\n",
    "plt.draw()\n",
    "plt.savefig('Smodelaccuracyv1.0.10.pdf')\n",
    "\n",
    "\n",
    "    \n",
    "print(\"Minimum validation loss {:.2f} and maximum accuracy {:.2f}%.\".format(np.min(History.history['val_loss'])\n",
    "                                                                   , 100*np.max(History.history['val_accuracy'])))"
   ]
  },
  {
   "cell_type": "markdown",
   "metadata": {},
   "source": [
    "## Saving My model"
   ]
  },
  {
   "cell_type": "code",
   "execution_count": 10,
   "metadata": {},
   "outputs": [],
   "source": [
    "if os.path.isfile('/home/zerguine/Desktop/v1.0.11/Sohaib_Modelv1.0.10.h5') is False:\n",
    "        Sohaib_Model.save('/home/zerguine/Desktop/v1.0.11/Sohaib_Modelv1.0.10.h5')"
   ]
  },
  {
   "cell_type": "markdown",
   "metadata": {},
   "source": [
    "## Trial with the use of external recordings"
   ]
  },
  {
   "cell_type": "code",
   "execution_count": 11,
   "metadata": {},
   "outputs": [],
   "source": [
    "from tensorflow.keras.models import load_model\n",
    "My_model= load_model('/home/zerguine/Desktop/v1.0.11/Sohaib_Modelv1.0.10.h5')"
   ]
  },
  {
   "cell_type": "code",
   "execution_count": 12,
   "metadata": {},
   "outputs": [
    {
     "name": "stdout",
     "output_type": "stream",
     "text": [
      "Model: \"sequential\"\n",
      "_________________________________________________________________\n",
      "Layer (type)                 Output Shape              Param #   \n",
      "=================================================================\n",
      "conv2d (Conv2D)              (None, 28, 28, 16)        160       \n",
      "_________________________________________________________________\n",
      "conv2d_1 (Conv2D)            (None, 28, 28, 32)        12832     \n",
      "_________________________________________________________________\n",
      "max_pooling2d (MaxPooling2D) (None, 14, 14, 32)        0         \n",
      "_________________________________________________________________\n",
      "dropout (Dropout)            (None, 14, 14, 32)        0         \n",
      "_________________________________________________________________\n",
      "conv2d_2 (Conv2D)            (None, 14, 14, 32)        9248      \n",
      "_________________________________________________________________\n",
      "max_pooling2d_1 (MaxPooling2 (None, 7, 7, 32)          0         \n",
      "_________________________________________________________________\n",
      "dropout_1 (Dropout)          (None, 7, 7, 32)          0         \n",
      "_________________________________________________________________\n",
      "flatten (Flatten)            (None, 1568)              0         \n",
      "_________________________________________________________________\n",
      "dense (Dense)                (None, 10)                15690     \n",
      "=================================================================\n",
      "Total params: 37,930\n",
      "Trainable params: 37,930\n",
      "Non-trainable params: 0\n",
      "_________________________________________________________________\n"
     ]
    }
   ],
   "source": [
    "My_model.summary()"
   ]
  }
 ],
 "metadata": {
  "kernelspec": {
   "display_name": "Python 3",
   "language": "python",
   "name": "python3"
  },
  "language_info": {
   "codemirror_mode": {
    "name": "ipython",
    "version": 3
   },
   "file_extension": ".py",
   "mimetype": "text/x-python",
   "name": "python",
   "nbconvert_exporter": "python",
   "pygments_lexer": "ipython3",
   "version": "3.8.5"
  }
 },
 "nbformat": 4,
 "nbformat_minor": 2
}
